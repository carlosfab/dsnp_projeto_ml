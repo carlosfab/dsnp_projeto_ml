{
 "cells": [
  {
   "cell_type": "markdown",
   "metadata": {},
   "source": [
    "# 📕 04 - Transform Raw Data into Training Data\n",
    "\n",
    "\n",
    "1. **Load an Entire Year Raw Data**: \n",
    "    - We commenced by loading the complete dataset for a year, a significant uptick in volume compared to our initial explorations with just a month's data. This step set the stage for the subsequent transformations and provided a comprehensive view of the data landscape.\n",
    "\n",
    "2. **Transform Raw Data into TS Data**: \n",
    "    - With the raw data at hand, our next step was to mold it into a time series format. This transformation is essential, especially considering our data's temporal nature. It allowed us to capture the sequential dependencies present in the data, making it primed for the next step.\n",
    "\n",
    "3. **Convert Time Series Data into Features and Target**: \n",
    "    - After having our time series data ready, we further broke it down into distinct features and targets. The features encapsulate the historical data, while the target represents the future values we aim to predict. This structure aligns with typical supervised machine learning tasks, making the data ready for model training and evaluation.\n",
    "\n",
    "4. **Save Tabular Data**: \n",
    "    - Finally, with our data in the desired format, we persisted it for future use. This not only ensures that we can reuse the processed data without redoing the steps but also aids in data versioning, making our experimentation reproducible."
   ]
  },
  {
   "cell_type": "code",
   "execution_count": 17,
   "metadata": {},
   "outputs": [],
   "source": [
    "%reload_ext autoreload\n",
    "%autoreload 2\n",
    "\n",
    "# import libraries\n",
    "from src.paths import TRANSFORMED_DATA_DIR\n",
    "from src.data import load_raw_data, transform_raw_data_into_ts_data, transform_ts_data_into_training_data"
   ]
  },
  {
   "cell_type": "code",
   "execution_count": 12,
   "metadata": {},
   "outputs": [
    {
     "name": "stdout",
     "output_type": "stream",
     "text": [
      "2023-01 was already downloaded.\n",
      "2023-02 was already downloaded.\n",
      "2023-03 was already downloaded.\n",
      "2023-04 was already downloaded.\n",
      "2023-05 was already downloaded.\n",
      "2023-06 was already downloaded.\n",
      "2023-07 was already downloaded.\n",
      "Downloading 2023-08...\n",
      "2023-08 file not available.\n",
      "Downloading 2023-09...\n",
      "2023-09 file not available.\n",
      "Downloading 2023-10...\n",
      "2023-10 file not available.\n",
      "Downloading 2023-11...\n",
      "2023-11 file not available.\n",
      "Downloading 2023-12...\n",
      "2023-12 file not available.\n"
     ]
    },
    {
     "data": {
      "text/html": [
       "<div>\n",
       "<style scoped>\n",
       "    .dataframe tbody tr th:only-of-type {\n",
       "        vertical-align: middle;\n",
       "    }\n",
       "\n",
       "    .dataframe tbody tr th {\n",
       "        vertical-align: top;\n",
       "    }\n",
       "\n",
       "    .dataframe thead th {\n",
       "        text-align: right;\n",
       "    }\n",
       "</style>\n",
       "<table border=\"1\" class=\"dataframe\">\n",
       "  <thead>\n",
       "    <tr style=\"text-align: right;\">\n",
       "      <th></th>\n",
       "      <th>pickup_datetime</th>\n",
       "      <th>pickup_location_id</th>\n",
       "    </tr>\n",
       "  </thead>\n",
       "  <tbody>\n",
       "    <tr>\n",
       "      <th>0</th>\n",
       "      <td>2023-01-01 00:32:10</td>\n",
       "      <td>161</td>\n",
       "    </tr>\n",
       "    <tr>\n",
       "      <th>1</th>\n",
       "      <td>2023-01-01 00:55:08</td>\n",
       "      <td>43</td>\n",
       "    </tr>\n",
       "    <tr>\n",
       "      <th>2</th>\n",
       "      <td>2023-01-01 00:25:04</td>\n",
       "      <td>48</td>\n",
       "    </tr>\n",
       "    <tr>\n",
       "      <th>3</th>\n",
       "      <td>2023-01-01 00:03:48</td>\n",
       "      <td>138</td>\n",
       "    </tr>\n",
       "    <tr>\n",
       "      <th>4</th>\n",
       "      <td>2023-01-01 00:10:29</td>\n",
       "      <td>107</td>\n",
       "    </tr>\n",
       "  </tbody>\n",
       "</table>\n",
       "</div>"
      ],
      "text/plain": [
       "      pickup_datetime  pickup_location_id\n",
       "0 2023-01-01 00:32:10                 161\n",
       "1 2023-01-01 00:55:08                  43\n",
       "2 2023-01-01 00:25:04                  48\n",
       "3 2023-01-01 00:03:48                 138\n",
       "4 2023-01-01 00:10:29                 107"
      ]
     },
     "execution_count": 12,
     "metadata": {},
     "output_type": "execute_result"
    }
   ],
   "source": [
    "# load 2023 raw data\n",
    "rides = load_raw_data(year=2023)\n",
    "rides.head()"
   ]
  },
  {
   "cell_type": "code",
   "execution_count": 13,
   "metadata": {},
   "outputs": [
    {
     "name": "stderr",
     "output_type": "stream",
     "text": [
      "100%|██████████| 262/262 [00:04<00:00, 56.35it/s]\n"
     ]
    }
   ],
   "source": [
    "# transform raw data into time series data\n",
    "ts_data = transform_raw_data_into_ts_data(rides)"
   ]
  },
  {
   "cell_type": "code",
   "execution_count": 18,
   "metadata": {},
   "outputs": [
    {
     "data": {
      "text/html": [
       "<div>\n",
       "<style scoped>\n",
       "    .dataframe tbody tr th:only-of-type {\n",
       "        vertical-align: middle;\n",
       "    }\n",
       "\n",
       "    .dataframe tbody tr th {\n",
       "        vertical-align: top;\n",
       "    }\n",
       "\n",
       "    .dataframe thead th {\n",
       "        text-align: right;\n",
       "    }\n",
       "</style>\n",
       "<table border=\"1\" class=\"dataframe\">\n",
       "  <thead>\n",
       "    <tr style=\"text-align: right;\">\n",
       "      <th></th>\n",
       "      <th>pickup_hour</th>\n",
       "      <th>rides</th>\n",
       "      <th>pickup_location_id</th>\n",
       "    </tr>\n",
       "  </thead>\n",
       "  <tbody>\n",
       "    <tr>\n",
       "      <th>0</th>\n",
       "      <td>2023-01-01 00:00:00</td>\n",
       "      <td>19</td>\n",
       "      <td>4</td>\n",
       "    </tr>\n",
       "    <tr>\n",
       "      <th>1</th>\n",
       "      <td>2023-01-01 01:00:00</td>\n",
       "      <td>28</td>\n",
       "      <td>4</td>\n",
       "    </tr>\n",
       "    <tr>\n",
       "      <th>2</th>\n",
       "      <td>2023-01-01 02:00:00</td>\n",
       "      <td>43</td>\n",
       "      <td>4</td>\n",
       "    </tr>\n",
       "    <tr>\n",
       "      <th>3</th>\n",
       "      <td>2023-01-01 03:00:00</td>\n",
       "      <td>33</td>\n",
       "      <td>4</td>\n",
       "    </tr>\n",
       "    <tr>\n",
       "      <th>4</th>\n",
       "      <td>2023-01-01 04:00:00</td>\n",
       "      <td>12</td>\n",
       "      <td>4</td>\n",
       "    </tr>\n",
       "  </tbody>\n",
       "</table>\n",
       "</div>"
      ],
      "text/plain": [
       "          pickup_hour  rides  pickup_location_id\n",
       "0 2023-01-01 00:00:00     19                   4\n",
       "1 2023-01-01 01:00:00     28                   4\n",
       "2 2023-01-01 02:00:00     43                   4\n",
       "3 2023-01-01 03:00:00     33                   4\n",
       "4 2023-01-01 04:00:00     12                   4"
      ]
     },
     "execution_count": 18,
     "metadata": {},
     "output_type": "execute_result"
    }
   ],
   "source": [
    "ts_data.head()"
   ]
  },
  {
   "cell_type": "code",
   "execution_count": 19,
   "metadata": {},
   "outputs": [
    {
     "name": "stderr",
     "output_type": "stream",
     "text": [
      " 19%|█▉        | 51/262 [01:26<06:42,  1.91s/it]"
     ]
    }
   ],
   "source": [
    "# transform ts data into features and target\n",
    "features, targets = transform_ts_data_into_training_data(\n",
    "    ts_data,\n",
    "    input_seq_len=24*28*1, # one month\n",
    "    step_size=1,\n",
    ")\n",
    "\n",
    "# check feature and target shapes\n",
    "print(f'{features.shape=}')\n",
    "print(f'{targets.shape=}')"
   ]
  },
  {
   "cell_type": "code",
   "execution_count": null,
   "metadata": {},
   "outputs": [],
   "source": [
    "# Consolidate the features and targets into a single DataFrame\n",
    "tabular_data = features\n",
    "tabular_data['target_rides_next_hour'] = targets\n",
    "\n",
    "# Save the consolidated data as a parquet file for future use\n",
    "tabular_data.to_parquet(TRANSFORMED_DATA_DIR / 'tabular_data.parquet')"
   ]
  }
 ],
 "metadata": {
  "kernelspec": {
   "display_name": ".venv",
   "language": "python",
   "name": "python3"
  },
  "language_info": {
   "codemirror_mode": {
    "name": "ipython",
    "version": 3
   },
   "file_extension": ".py",
   "mimetype": "text/x-python",
   "name": "python",
   "nbconvert_exporter": "python",
   "pygments_lexer": "ipython3",
   "version": "3.10.0"
  }
 },
 "nbformat": 4,
 "nbformat_minor": 2
}
